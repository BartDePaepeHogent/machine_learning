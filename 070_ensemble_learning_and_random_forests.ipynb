{
  "cells": [
    {
      "cell_type": "markdown",
      "metadata": {
        "id": "ZcFpK6Rf5_IQ"
      },
      "source": [
        "**Chapter 7 – Ensemble Learning and Random Forests**"
      ]
    },
    {
      "cell_type": "markdown",
      "metadata": {
        "id": "Y5zQvu9M5_IU"
      },
      "source": [
        "<table align=\"left\">\n",
        "  <td>\n",
        "    <a href=\"https://colab.research.google.com/github/jdecorte/machinelearning/blob/main/070-ensemble_learning_and_random_forests.ipynb\" target=\"_parent\"><img src=\"https://colab.research.google.com/assets/colab-badge.svg\" alt=\"Open In Colab\"/></a>\n",
        "  </td>\n",
        "</table>"
      ]
    },
    {
      "cell_type": "markdown",
      "metadata": {
        "id": "shuPIDhF5_IV"
      },
      "source": [
        "# Setup"
      ]
    },
    {
      "cell_type": "markdown",
      "metadata": {
        "id": "BoohySmz5_IW"
      },
      "source": [
        "First, let's import a few common modules, ensure MatplotLib plots figures inline and prepare a function to save the figures. We also check that Python 3.5 or later is installed (although Python 2.x may work, it is deprecated so we strongly recommend you use Python 3 instead), as well as Scikit-Learn ≥0.20."
      ]
    },
    {
      "cell_type": "code",
      "execution_count": null,
      "metadata": {
        "id": "KxLOElnM5_IW"
      },
      "outputs": [],
      "source": [
        "# Python ≥3.5 is required\n",
        "import sys\n",
        "assert sys.version_info >= (3, 5)\n",
        "\n",
        "# Scikit-Learn ≥0.20 is required\n",
        "import sklearn\n",
        "assert sklearn.__version__ >= \"0.20\"\n",
        "\n",
        "# Common imports\n",
        "import numpy as np\n",
        "import os\n",
        "\n",
        "# to make this notebook's output stable across runs\n",
        "np.random.seed(42)\n",
        "\n",
        "# To plot pretty figures\n",
        "%matplotlib inline\n",
        "import matplotlib as mpl\n",
        "import matplotlib.pyplot as plt\n",
        "mpl.rc('axes', labelsize=14)\n",
        "mpl.rc('xtick', labelsize=12)\n",
        "mpl.rc('ytick', labelsize=12)"
      ]
    },
    {
      "cell_type": "markdown",
      "metadata": {
        "id": "RdbGQklf5_IX"
      },
      "source": [
        "# INTRODUCTION"
      ]
    },
    {
      "cell_type": "markdown",
      "metadata": {
        "id": "qgqOeBai5_IY"
      },
      "source": [
        "- It can be proven that if you aggregate (e.g. by taken the average prediction) the predictions of a group of predictors (such as classifiers or regressors), you will often get better predictions than with the best individual predictor.\n",
        "- A group of predictors is called an _ensemble_.\n",
        "- This technique is called _Ensemble Learning_.\n",
        "- An Ensemble Learning algorithm is called an _Ensemble method_.\n",
        "\n",
        "Example: \n",
        "- Train a group of Decision Tree classifiers, each on a different random subset of the training set. \n",
        "- To make predictions, you obtain the predictions of all the individual trees, then predict the class that gets the most votes. \n",
        "- Such an ensemble of Decision Trees is called a _Random Forest_.\n",
        "- This is one of the most powerful Machine Learning algorithms available today."
      ]
    },
    {
      "cell_type": "markdown",
      "metadata": {
        "id": "AXzwjotG5_IZ"
      },
      "source": [
        "## THE BIAS/VARIANCE TRADE-OFF\n",
        "A model’s generalization error can be expressed as the sum of three very different errors:\n",
        "\n",
        "_Bias_ \n",
        "\n",
        "This part of the generalization error is due to wrong assumptions,\n",
        "such as assuming that the data is linear when it is actually quadratic.\n",
        "A high-bias model is most likely to **underfit** the training data.\n",
        "\n",
        "_Variance_ \n",
        "\n",
        "This part is due to the model’s excessive sensitivity to small variations in the training data. A model with many degrees of freedom (such as a high-degree polynomial model) is likely to have high variance and thus **overfit** the training data.\n",
        "\n",
        "_Irreducible error_ \n",
        "\n",
        "This part is due to the **noisiness of the data** itself. The only way to reduce this part of the error is to clean up the data (e.g., fix the data\n",
        "sources, such as broken sensors, or detect and remove outliers)."
      ]
    },
    {
      "cell_type": "markdown",
      "metadata": {
        "id": "SNh_8Rbz5_IZ"
      },
      "source": [
        "# Voting Classifiers\n",
        "\n",
        "Typicall you choose several predictors to take part in the ensemble:\n",
        "\n",
        "![](https://github.com/jdecorte/machinelearning/blob/main/img/ensemble_diverse_predictors.png?raw=1)\n",
        "\n",
        "**Hard voting**\n",
        "\n",
        "In _hard voting_ we predict the class that gets the most votes:\n",
        "\n",
        "![](https://github.com/jdecorte/machinelearning/blob/main/img/ensemble_hard_vorting.png?raw=1)\n",
        "\n",
        "Somewhat surprisingly, this voting classifier often achieves a higher accuracy than the best classifier in the ensemble."
      ]
    },
    {
      "cell_type": "markdown",
      "metadata": {
        "id": "sSWNjucM5_Ia"
      },
      "source": [
        "Let's use the moons dataset to illustrate this:"
      ]
    },
    {
      "cell_type": "code",
      "execution_count": null,
      "metadata": {
        "id": "m6qgflhR5_Ib"
      },
      "outputs": [],
      "source": [
        "from sklearn.model_selection import train_test_split\n",
        "from sklearn.datasets import make_moons\n",
        "\n",
        "X, y = make_moons(n_samples=500, noise=0.30, random_state=42)\n",
        "X_train, X_test, y_train, y_test = train_test_split(X, y, random_state=42)"
      ]
    },
    {
      "cell_type": "markdown",
      "metadata": {
        "id": "ww5mm8GJ5_Ib"
      },
      "source": [
        "**Note**: to be future-proof, we set `solver=\"lbfgs\"`, `n_estimators=100`, and `gamma=\"scale\"` since these will be the default values in upcoming Scikit-Learn versions."
      ]
    },
    {
      "cell_type": "code",
      "execution_count": null,
      "metadata": {
        "id": "uO6XHj1g5_Ib"
      },
      "outputs": [],
      "source": [
        "from sklearn.ensemble import RandomForestClassifier\n",
        "from sklearn.ensemble import VotingClassifier\n",
        "from sklearn.linear_model import LogisticRegression\n",
        "from sklearn.svm import SVC\n",
        "\n",
        "log_clf = LogisticRegression(solver=\"lbfgs\", random_state=42)\n",
        "rnd_clf = RandomForestClassifier(n_estimators=100, random_state=42)\n",
        "svm_clf = SVC(gamma=\"scale\", random_state=42)\n",
        "\n",
        "voting_clf = VotingClassifier(\n",
        "    estimators=[('lr', log_clf), ('rf', rnd_clf), ('svc', svm_clf)],\n",
        "    voting='hard')"
      ]
    },
    {
      "cell_type": "code",
      "execution_count": null,
      "metadata": {
        "id": "jP9uaRZj5_Ic",
        "outputId": "c89c086b-2ef5-418a-ecdc-c8656f9b8d6d"
      },
      "outputs": [
        {
          "data": {
            "text/plain": [
              "VotingClassifier(estimators=[('lr', LogisticRegression(random_state=42)),\n",
              "                             ('rf', RandomForestClassifier(random_state=42)),\n",
              "                             ('svc', SVC(random_state=42))])"
            ]
          },
          "execution_count": 4,
          "metadata": {},
          "output_type": "execute_result"
        }
      ],
      "source": [
        "voting_clf.fit(X_train, y_train)"
      ]
    },
    {
      "cell_type": "code",
      "execution_count": null,
      "metadata": {
        "id": "_8Nz1N-t5_Ic",
        "outputId": "da8d933f-6c4e-4c29-d7b9-2b97c811b6d9"
      },
      "outputs": [
        {
          "name": "stdout",
          "output_type": "stream",
          "text": [
            "LogisticRegression 0.864\n",
            "RandomForestClassifier 0.896\n",
            "SVC 0.896\n",
            "VotingClassifier 0.912\n"
          ]
        }
      ],
      "source": [
        "from sklearn.metrics import accuracy_score\n",
        "\n",
        "for clf in (log_clf, rnd_clf, svm_clf, voting_clf):\n",
        "    clf.fit(X_train, y_train)\n",
        "    y_pred = clf.predict(X_test)\n",
        "    print(clf.__class__.__name__, accuracy_score(y_test, y_pred))"
      ]
    },
    {
      "cell_type": "markdown",
      "metadata": {
        "id": "WB9HC0MU5_Id"
      },
      "source": [
        "There you have it! The voting classifier slightly outperforms all the individual classifiers."
      ]
    },
    {
      "cell_type": "markdown",
      "metadata": {
        "id": "bRkmHoxz5_Id"
      },
      "source": [
        "**Soft voting**\n",
        "- If all classifiers are able to estimate class probabilities (i.e., they all have a `predict_proba()` method), then you can tell Scikit-Learn to predict the class with the\n",
        "highest class probability, averaged over all the individual classifiers. \n",
        "- This is called `soft voting`. \n",
        "- It often achieves higher performance than hard voting because it gives more weight to highly confident votes.\n",
        "\n",
        "All you have to do is pass the parameter `voting=soft` to the `VotingClassifier`. "
      ]
    },
    {
      "cell_type": "code",
      "execution_count": null,
      "metadata": {
        "id": "5WFfFBtK5_Id",
        "outputId": "bf2dfb15-55f3-4bc6-f9fd-af56f1ce6023"
      },
      "outputs": [
        {
          "data": {
            "text/plain": [
              "VotingClassifier(estimators=[('lr', LogisticRegression(random_state=42)),\n",
              "                             ('rf', RandomForestClassifier(random_state=42)),\n",
              "                             ('svc', SVC(probability=True, random_state=42))],\n",
              "                 voting='soft')"
            ]
          },
          "execution_count": 6,
          "metadata": {},
          "output_type": "execute_result"
        }
      ],
      "source": [
        "log_clf = LogisticRegression(solver=\"lbfgs\", random_state=42)\n",
        "rnd_clf = RandomForestClassifier(n_estimators=100, random_state=42)\n",
        "svm_clf = SVC(gamma=\"scale\", probability=True, random_state=42)\n",
        "\n",
        "voting_clf = VotingClassifier(\n",
        "    estimators=[('lr', log_clf), ('rf', rnd_clf), ('svc', svm_clf)],\n",
        "    voting='soft')\n",
        "voting_clf.fit(X_train, y_train)"
      ]
    },
    {
      "cell_type": "code",
      "execution_count": null,
      "metadata": {
        "id": "tKYmJayZ5_Id",
        "outputId": "40d0fe54-d4ba-44b8-89be-f33230851e05"
      },
      "outputs": [
        {
          "name": "stdout",
          "output_type": "stream",
          "text": [
            "LogisticRegression 0.864\n",
            "RandomForestClassifier 0.896\n",
            "SVC 0.896\n",
            "VotingClassifier 0.92\n"
          ]
        }
      ],
      "source": [
        "from sklearn.metrics import accuracy_score\n",
        "\n",
        "for clf in (log_clf, rnd_clf, svm_clf, voting_clf):\n",
        "    clf.fit(X_train, y_train)\n",
        "    y_pred = clf.predict(X_test)\n",
        "    print(clf.__class__.__name__, accuracy_score(y_test, y_pred))"
      ]
    },
    {
      "cell_type": "markdown",
      "metadata": {
        "id": "1UPzZAtS5_Ie"
      },
      "source": [
        "# Bagging and Pasting\n",
        "Using a diverse set of classifiers:\n",
        "- use very different training algorithms (see above)\n",
        "- to use the same training algorithm for every predictor and train them on different random subsets of the training set\n",
        "- _bagging_: sampling _with replacement_: each training sample can appear multiple times when training a single predictor\n",
        "- _pasting_: sampling _without replacement_\n",
        "\n",
        "Conclusion: \n",
        "\n",
        "- both bagging and pasting allow training instances to be sampled several times across multiple predictors.\n",
        "- only bagging allows training instances to be sampled several times for the same predictor.\n",
        "\n",
        "![](https://github.com/jdecorte/machinelearning/blob/main/img/bagging-pasting.png?raw=1)\n",
        "\n",
        "- Once all predictors are trained, the ensemble can make a prediction for a new instance by simply aggregating the predictions of all predictors.\n",
        "- Most frequent predictor (like hard voting) for classification and average for regression.\n",
        "- Each individual predictor has a higher bias than if it were trained on the original training set. \n",
        "- Aggregation reduces both bias and variance.\n",
        "- Generally, the net result is that the ensemble has a similar bias but a lower variance than a single predictor trained on the original training set.\n",
        "- Predictors can all be trained in parallel, via different CPU cores or even different servers --> bagging and pasting scale very well. \n"
      ]
    },
    {
      "cell_type": "markdown",
      "metadata": {
        "id": "kiphwd1D5_Ie"
      },
      "source": [
        "## Bagging and Pasting in Scikit-Learn\n",
        "Use `BaggingClassifier` class or `BaggingRegressor` class"
      ]
    },
    {
      "cell_type": "code",
      "execution_count": null,
      "metadata": {
        "id": "gMSPpqon5_Ie"
      },
      "outputs": [],
      "source": [
        "from sklearn.ensemble import BaggingClassifier\n",
        "from sklearn.tree import DecisionTreeClassifier\n",
        "\n",
        "bag_clf = BaggingClassifier(\n",
        "    DecisionTreeClassifier(), n_estimators=500,\n",
        "    max_samples=100, bootstrap=True, n_jobs=-1,random_state=42)  # n_jobs: number of CPU cores used for training and prediction (-1 = all availablre)\n",
        "bag_clf.fit(X_train, y_train)\n",
        "y_pred = bag_clf.predict(X_test)"
      ]
    },
    {
      "cell_type": "markdown",
      "metadata": {
        "id": "8JWk7KYX5_Ie"
      },
      "source": [
        "**NOTE**  \n",
        "The `BaggingClassifier` automatically performs soft voting instead of hard voting if the base\n",
        "classifier can estimate class probabilities (i.e., if it has a `predict_proba()` method), which is the case\n",
        "with Decision Tree classifiers."
      ]
    },
    {
      "cell_type": "code",
      "execution_count": null,
      "metadata": {
        "id": "TzYcmRlK5_If",
        "outputId": "569959ed-41c3-49fe-ffcf-6e3459a3d3bd"
      },
      "outputs": [
        {
          "name": "stdout",
          "output_type": "stream",
          "text": [
            "0.904\n"
          ]
        }
      ],
      "source": [
        "from sklearn.metrics import accuracy_score\n",
        "print(accuracy_score(y_test, y_pred))"
      ]
    },
    {
      "cell_type": "markdown",
      "metadata": {
        "id": "-DUIB4E_5_If"
      },
      "source": [
        "As compared to a single decison tree:"
      ]
    },
    {
      "cell_type": "code",
      "execution_count": null,
      "metadata": {
        "id": "YEms_Xe05_If",
        "outputId": "f1ec1e43-07ec-4811-fb14-3798a511e6c1"
      },
      "outputs": [
        {
          "name": "stdout",
          "output_type": "stream",
          "text": [
            "0.856\n"
          ]
        }
      ],
      "source": [
        "tree_clf = DecisionTreeClassifier(random_state=42)\n",
        "tree_clf.fit(X_train, y_train)\n",
        "y_pred_tree = tree_clf.predict(X_test)\n",
        "print(accuracy_score(y_test, y_pred_tree))"
      ]
    },
    {
      "cell_type": "markdown",
      "metadata": {
        "id": "Om4pvX9L5_If"
      },
      "source": [
        "## Out-of-Bag evaluation"
      ]
    },
    {
      "cell_type": "markdown",
      "metadata": {
        "id": "hnbY-eNL5_If"
      },
      "source": [
        "- With bagging, some instances may be sampled several times for any given predictor, while others may not be sampled at all. \n",
        "- By default a BaggingClassifier samples $m$ training instances with replacement (`bootstrap=True`), where $m$ is the size of the\n",
        "training set. \n",
        "- This means that statistically only about 63% of the training instances are sampled on average for each predictor. \n",
        "- The remaining 37% of the training instances that are not sampled are called _out-of-bag_ (oob) instances. \n",
        "- Note that they are not the same 37% for all predictors.\n",
        "- Since a predictor never sees the oob instances during training, it can be evaluated on these instances, without the need for a separate validation set. \n",
        "- You can evaluate the ensemble itself by averaging out the oob evaluations of each predictor."
      ]
    },
    {
      "cell_type": "code",
      "execution_count": null,
      "metadata": {
        "id": "AR28zFqP5_Ig",
        "outputId": "9f8a499f-4eb3-4569-9cc9-f034c6e6646d"
      },
      "outputs": [
        {
          "data": {
            "text/plain": [
              "0.8986666666666666"
            ]
          },
          "execution_count": 10,
          "metadata": {},
          "output_type": "execute_result"
        }
      ],
      "source": [
        "bag_clf = BaggingClassifier(\n",
        "    DecisionTreeClassifier(), n_estimators=500,\n",
        "    bootstrap=True, oob_score=True, random_state=40)\n",
        "bag_clf.fit(X_train, y_train)\n",
        "bag_clf.oob_score_"
      ]
    },
    {
      "cell_type": "markdown",
      "metadata": {
        "id": "1iQLlY_q5_Ig"
      },
      "source": [
        "Let's compare this with the accuracy on the test set:"
      ]
    },
    {
      "cell_type": "code",
      "execution_count": null,
      "metadata": {
        "scrolled": true,
        "id": "CEFfNArB5_Ig",
        "outputId": "71633195-d64e-40d9-8f85-3741892b5a99"
      },
      "outputs": [
        {
          "data": {
            "text/plain": [
              "0.912"
            ]
          },
          "execution_count": 17,
          "metadata": {},
          "output_type": "execute_result"
        }
      ],
      "source": [
        "from sklearn.metrics import accuracy_score\n",
        "y_pred = bag_clf.predict(X_test)\n",
        "accuracy_score(y_test, y_pred)"
      ]
    },
    {
      "cell_type": "markdown",
      "metadata": {
        "id": "PDR4SP785_Ig"
      },
      "source": [
        "Close enough!"
      ]
    },
    {
      "cell_type": "markdown",
      "metadata": {
        "id": "JBojr6tc5_Ig"
      },
      "source": [
        "# Random Forests"
      ]
    },
    {
      "cell_type": "markdown",
      "metadata": {
        "id": "ugWn0Exu5_Ih"
      },
      "source": [
        "Random Forest is an ensemble of Decision Trees, generally trained via the bagging method (or sometimes pasting)."
      ]
    },
    {
      "cell_type": "code",
      "execution_count": null,
      "metadata": {
        "id": "2tqwSigB5_Ih"
      },
      "outputs": [],
      "source": [
        "from sklearn.ensemble import RandomForestClassifier\n",
        "\n",
        "rnd_clf = RandomForestClassifier(n_estimators=500, max_leaf_nodes=16, random_state=42)\n",
        "rnd_clf.fit(X_train, y_train)\n",
        "\n",
        "y_pred_rf = rnd_clf.predict(X_test)"
      ]
    },
    {
      "cell_type": "markdown",
      "metadata": {
        "id": "8x4NjKOG5_Ih"
      },
      "source": [
        "With a few exceptions, a `RandomForestClassifier` has all the hyperparameters of a `DecisionTreeClassifier` (to control how trees are grown),   \n",
        "plus all thehyperparameters of a `BaggingClassifier` to control the ensemble itself."
      ]
    },
    {
      "cell_type": "markdown",
      "metadata": {
        "id": "P4YLkkmx5_Ih"
      },
      "source": [
        "A Random Forest is equivalent to a bag of decision trees:"
      ]
    },
    {
      "cell_type": "code",
      "execution_count": null,
      "metadata": {
        "id": "mcUt2Fsg5_Ii"
      },
      "outputs": [],
      "source": [
        "bag_clf = BaggingClassifier(\n",
        "    DecisionTreeClassifier(splitter=\"random\", max_leaf_nodes=16),\n",
        "    n_estimators=500, max_samples=1.0,bootstrap=True,random_state=42)"
      ]
    },
    {
      "cell_type": "code",
      "execution_count": null,
      "metadata": {
        "id": "Avw56vmZ5_Ii"
      },
      "outputs": [],
      "source": [
        "bag_clf.fit(X_train, y_train)\n",
        "y_pred = bag_clf.predict(X_test)"
      ]
    },
    {
      "cell_type": "code",
      "execution_count": null,
      "metadata": {
        "id": "TgBRTlXq5_Ii",
        "outputId": "03031b7b-6d06-4f62-d4fb-a195f3c98942"
      },
      "outputs": [
        {
          "data": {
            "text/plain": [
              "0.976"
            ]
          },
          "execution_count": 17,
          "metadata": {},
          "output_type": "execute_result"
        }
      ],
      "source": [
        "np.sum(y_pred == y_pred_rf) / len(y_pred)  # very similar predictions"
      ]
    },
    {
      "cell_type": "markdown",
      "metadata": {
        "id": "9xxp1lcx5_Ii"
      },
      "source": [
        "## Feature Importance\n",
        "Yet another great quality of Random Forests is that they make it easy to **measure the relative importance of each feature**."
      ]
    },
    {
      "cell_type": "code",
      "execution_count": null,
      "metadata": {
        "id": "Kv7-9zAh5_Ii",
        "outputId": "44276ee9-23db-420d-9e12-156edb186453"
      },
      "outputs": [
        {
          "name": "stdout",
          "output_type": "stream",
          "text": [
            "sepal length (cm) 0.11249225099876375\n",
            "sepal width (cm) 0.02311928828251033\n",
            "petal length (cm) 0.4410304643639577\n",
            "petal width (cm) 0.4233579963547682\n"
          ]
        }
      ],
      "source": [
        "from sklearn.datasets import load_iris\n",
        "iris = load_iris()\n",
        "rnd_clf = RandomForestClassifier(n_estimators=500, random_state=42)\n",
        "rnd_clf.fit(iris[\"data\"], iris[\"target\"])\n",
        "for name, score in zip(iris[\"feature_names\"], rnd_clf.feature_importances_):\n",
        "    print(name, score)"
      ]
    },
    {
      "cell_type": "code",
      "execution_count": null,
      "metadata": {
        "id": "obYkjt8H5_Ij",
        "outputId": "a8d0afc4-2150-4473-c433-b561062ecfe9"
      },
      "outputs": [
        {
          "data": {
            "text/plain": [
              "array([0.11249225, 0.02311929, 0.44103046, 0.423358  ])"
            ]
          },
          "execution_count": 19,
          "metadata": {},
          "output_type": "execute_result"
        }
      ],
      "source": [
        "rnd_clf.feature_importances_"
      ]
    },
    {
      "cell_type": "markdown",
      "metadata": {
        "id": "akipZfsb5_Ij"
      },
      "source": [
        "This figure shows the features (= pixel) importance for the MNIST dataset:  \n",
        "\n",
        "![](https://github.com/jdecorte/machinelearning/blob/main/img/mnist_pixel_importance.png?raw=1)"
      ]
    },
    {
      "cell_type": "markdown",
      "metadata": {
        "id": "I7oaHLBC5_Ij"
      },
      "source": [
        "# Boosting\n",
        "- Boosting refers to any Ensemble method that can combine several weak learners into a strong learner. \n",
        "- The general idea of most boosting methods is to train predictors sequentially, each trying to correct its predecessor. \n",
        "- There are many boosting methods available, but by far the most popular are _AdaBoost_ (short for _Adaptive Boosting_) and _Gradient Boosting_. \n",
        "- Let’s start with AdaBoost.\n",
        "## AdaBoost\n",
        "- One way for a new predictor to correct its predecessor is to pay a bit more attention to the training instances that the predecessor underfitted. \n",
        "- This results in new predictors focusing more and more on the hard cases.\n",
        "- The algorithm first trains a base classifier (such as a Decision Tree) and uses it to make predictions on the training set.\n",
        "- The algorithm then increases the relative weight of misclassified training instances. \n",
        "- Then it trains a second classifier, using the updated weights, and again makes predictions on the training set, updates the instance weights, and so on;"
      ]
    },
    {
      "cell_type": "markdown",
      "metadata": {
        "id": "NeCZvUBV5_Ij"
      },
      "source": [
        "![](https://github.com/jdecorte/machinelearning/blob/main/img/adaboost.png?raw=1)"
      ]
    },
    {
      "cell_type": "markdown",
      "metadata": {
        "id": "44BGYlP85_Ik"
      },
      "source": [
        "- Scikit-Learn uses a multiclass version of AdaBoost called _SAMME_ (which stands for **Stagewise Additive Modeling using a Multiclass Exponential loss function**).\n",
        "- If the predictors can estimate class probabilities (i.e., if they have a `predict_proba()` method), Scikit-Learn can use a variant of SAMME called SAMME.R.\n",
        "- The R stands for “Real”, which relies on class probabilities rather than predictions and generally performs better.\n",
        "- The learning rate determines the weights of the misclassified instances. "
      ]
    },
    {
      "cell_type": "code",
      "execution_count": null,
      "metadata": {
        "id": "r6hiL3oi5_Ik",
        "outputId": "e50d1a65-bfe6-427a-cd3d-2ea8163b16d1"
      },
      "outputs": [
        {
          "data": {
            "text/plain": [
              "AdaBoostClassifier(base_estimator=DecisionTreeClassifier(max_depth=1),\n",
              "                   learning_rate=0.5, n_estimators=200, random_state=42)"
            ]
          },
          "execution_count": 20,
          "metadata": {},
          "output_type": "execute_result"
        }
      ],
      "source": [
        "from sklearn.ensemble import AdaBoostClassifier\n",
        "\n",
        "ada_clf = AdaBoostClassifier(\n",
        "    DecisionTreeClassifier(max_depth=1), n_estimators=200,\n",
        "    algorithm=\"SAMME.R\", learning_rate=0.5, random_state=42)\n",
        "ada_clf.fit(X_train, y_train)"
      ]
    },
    {
      "cell_type": "markdown",
      "metadata": {
        "id": "EdoFH6y85_Ik"
      },
      "source": [
        "## Gradient Boosting"
      ]
    },
    {
      "cell_type": "markdown",
      "metadata": {
        "id": "p6OIfFxJ5_Ik"
      },
      "source": [
        "- Just like AdaBoost, Gradient Boosting works by sequentially adding predictors to an ensemble, each one correcting its predecessor. \n",
        "- However, instead of tweaking the instance weights at every iteration like AdaBoost does, this method tries to fit the new predictor to the residual\n",
        "errors made by the previous predictor."
      ]
    },
    {
      "cell_type": "markdown",
      "metadata": {
        "id": "6MwU2Bxa5_Ik"
      },
      "source": [
        "Let create a simple quadratic dataset:"
      ]
    },
    {
      "cell_type": "code",
      "execution_count": null,
      "metadata": {
        "id": "wtaBdZVp5_Ik"
      },
      "outputs": [],
      "source": [
        "np.random.seed(42)\n",
        "X = np.random.rand(100, 1) - 0.5\n",
        "y = 3*X[:, 0]**2 + 0.05 * np.random.randn(100)"
      ]
    },
    {
      "cell_type": "markdown",
      "metadata": {
        "id": "cKrFQIe-5_Ik"
      },
      "source": [
        "Now let's train a decision tree regressor on this dataset:"
      ]
    },
    {
      "cell_type": "code",
      "execution_count": null,
      "metadata": {
        "id": "hG5cCwTd5_Il",
        "outputId": "9c42e31e-ddbe-4033-b18b-30397d839b65"
      },
      "outputs": [
        {
          "data": {
            "text/plain": [
              "DecisionTreeRegressor(max_depth=2, random_state=42)"
            ]
          },
          "execution_count": 22,
          "metadata": {},
          "output_type": "execute_result"
        }
      ],
      "source": [
        "from sklearn.tree import DecisionTreeRegressor\n",
        "\n",
        "tree_reg1 = DecisionTreeRegressor(max_depth=2, random_state=42)\n",
        "tree_reg1.fit(X, y)"
      ]
    },
    {
      "cell_type": "markdown",
      "metadata": {
        "id": "itHYJDwt5_Il"
      },
      "source": [
        "Next, we’ll train a second DecisionTreeRegressor on the residual errors made by the first predictor:"
      ]
    },
    {
      "cell_type": "code",
      "execution_count": null,
      "metadata": {
        "id": "aYn2Dg7J5_Il",
        "outputId": "8ee25a3d-ae3a-41d3-e756-254552960ae0"
      },
      "outputs": [
        {
          "data": {
            "text/plain": [
              "DecisionTreeRegressor(max_depth=2, random_state=42)"
            ]
          },
          "execution_count": 23,
          "metadata": {},
          "output_type": "execute_result"
        }
      ],
      "source": [
        "y2 = y - tree_reg1.predict(X)  # residual errors\n",
        "tree_reg2 = DecisionTreeRegressor(max_depth=2, random_state=42)\n",
        "tree_reg2.fit(X, y2)"
      ]
    },
    {
      "cell_type": "markdown",
      "metadata": {
        "id": "ekBKFJZk5_Il"
      },
      "source": [
        "Then we train a third regressor on the residual errors made by the second predictor:"
      ]
    },
    {
      "cell_type": "code",
      "execution_count": null,
      "metadata": {
        "id": "l0pxuzn_5_Il",
        "outputId": "b8cd5c1d-be7b-433c-ba22-3d96d94cc64c"
      },
      "outputs": [
        {
          "data": {
            "text/plain": [
              "DecisionTreeRegressor(max_depth=2, random_state=42)"
            ]
          },
          "execution_count": 24,
          "metadata": {},
          "output_type": "execute_result"
        }
      ],
      "source": [
        "y3 = y2 - tree_reg2.predict(X)\n",
        "tree_reg3 = DecisionTreeRegressor(max_depth=2, random_state=42)\n",
        "tree_reg3.fit(X, y3)"
      ]
    },
    {
      "cell_type": "markdown",
      "metadata": {
        "id": "efCDksib5_Il"
      },
      "source": [
        "Now we have an ensemble containing three trees. It can make predictions on a new instance simply by adding up the predictions of all the trees:"
      ]
    },
    {
      "cell_type": "code",
      "execution_count": null,
      "metadata": {
        "id": "PrfO7jAT5_Im"
      },
      "outputs": [],
      "source": [
        "X_new = np.array([[0.8]])"
      ]
    },
    {
      "cell_type": "code",
      "execution_count": null,
      "metadata": {
        "id": "AnYTOx9x5_Im"
      },
      "outputs": [],
      "source": [
        "y_pred = sum(tree.predict(X_new) for tree in (tree_reg1, tree_reg2, tree_reg3))"
      ]
    },
    {
      "cell_type": "code",
      "execution_count": null,
      "metadata": {
        "id": "U9BjVJrp5_Im",
        "outputId": "b75a3485-bf5d-443a-9a6d-133bdd20e9c2"
      },
      "outputs": [
        {
          "data": {
            "text/plain": [
              "array([0.75026781])"
            ]
          },
          "execution_count": 27,
          "metadata": {},
          "output_type": "execute_result"
        }
      ],
      "source": [
        "y_pred"
      ]
    },
    {
      "cell_type": "markdown",
      "metadata": {
        "id": "4O8OICeS5_Im"
      },
      "source": [
        "- The figure below represents the predictions of these three trees in the left column, and the ensemble’s predictions in the right column. \n",
        "- In the first row, the ensemble has just one tree, so its predictions are exactly the same as the first tree’s predictions. \n",
        "- In the second row, a new tree is trained on the residual errors of the first tree. \n",
        "- On the right you can see that the ensemble’s predictions are equal to the sum of the predictions of the first two trees. \n",
        "- Similarly, in the third row another tree is trained on the residual errors of the second tree. You can see that the ensemble’s predictions gradually get better as trees are added to the ensemble.\n",
        "![](https://github.com/jdecorte/machinelearning/blob/main/img/gradient_boosting_plot.png?raw=1)"
      ]
    },
    {
      "cell_type": "markdown",
      "metadata": {
        "id": "rGX4rSA75_Im"
      },
      "source": [
        "Now let's try a gradient boosting regressor:"
      ]
    },
    {
      "cell_type": "code",
      "execution_count": null,
      "metadata": {
        "id": "yXrAhNHe5_Im",
        "outputId": "647327c0-5768-41ea-ac97-02bb3ac12465"
      },
      "outputs": [
        {
          "data": {
            "text/plain": [
              "GradientBoostingRegressor(learning_rate=1.0, max_depth=2, n_estimators=3,\n",
              "                          random_state=42)"
            ]
          },
          "execution_count": 28,
          "metadata": {},
          "output_type": "execute_result"
        }
      ],
      "source": [
        "from sklearn.ensemble import GradientBoostingRegressor\n",
        "\n",
        "gbrt = GradientBoostingRegressor(max_depth=2, n_estimators=3, learning_rate=1.0, random_state=42)\n",
        "gbrt.fit(X, y)"
      ]
    },
    {
      "cell_type": "markdown",
      "metadata": {
        "id": "FPSDa5Tr5_Im"
      },
      "source": [
        "- The `learning_rate` hyperparameter scales the contribution of each tree. \n",
        "- If you set it to a low value, such as 0.1, you will need more trees in the ensemble to fit the training set, but the predictions will usually generalize better. \n",
        "- This is a regularization technique called `shrinkage`.\n",
        "\n",
        "\n",
        "- The figure below shows two GBRT ensembles: \n",
        "    - the one on the left does not have enough trees to fit the training set\n",
        "    - the one on the right has too many trees and overfits the training set.\n",
        "\n",
        "![](https://github.com/jdecorte/machinelearning/blob/main/img/gbrt_learning_rate_plot.png?raw=1)"
      ]
    },
    {
      "cell_type": "markdown",
      "metadata": {
        "id": "MaDDrXTm5_In"
      },
      "source": [
        "**Gradient Boosting with Early stopping**\n",
        "\n",
        "- In order to find the optimal number of trees, you can use _early stopping_.\n",
        "- A simple way to implement this is to use the `staged_predict()` method: it returns an iterator over the predictions made by the ensemble at each stage of training (with one tree, two trees, etc.). \n",
        "- The following code trains a GBRT ensemble with 120 trees, then measures the validation error at each stage of training to find the optimal number of\n",
        "trees, and finally trains another GBRT ensemble using the optimal number of trees:"
      ]
    },
    {
      "cell_type": "code",
      "execution_count": null,
      "metadata": {
        "id": "h2RhVwse5_In",
        "outputId": "2d84a77e-b9f1-49d8-fe57-8f9d3367512d"
      },
      "outputs": [
        {
          "data": {
            "text/plain": [
              "GradientBoostingRegressor(max_depth=2, n_estimators=56, random_state=42)"
            ]
          },
          "execution_count": 29,
          "metadata": {},
          "output_type": "execute_result"
        }
      ],
      "source": [
        "import numpy as np\n",
        "from sklearn.model_selection import train_test_split\n",
        "from sklearn.metrics import mean_squared_error\n",
        "\n",
        "X_train, X_val, y_train, y_val = train_test_split(X, y, random_state=49)\n",
        "\n",
        "gbrt = GradientBoostingRegressor(max_depth=2, n_estimators=120, random_state=42)\n",
        "gbrt.fit(X_train, y_train)\n",
        "\n",
        "errors = [mean_squared_error(y_val, y_pred)\n",
        "          for y_pred in gbrt.staged_predict(X_val)]\n",
        "bst_n_estimators = np.argmin(errors) + 1\n",
        "\n",
        "gbrt_best = GradientBoostingRegressor(max_depth=2, n_estimators=bst_n_estimators, random_state=42)\n",
        "gbrt_best.fit(X_train, y_train)"
      ]
    },
    {
      "cell_type": "markdown",
      "metadata": {
        "id": "ILfyMv1g5_In"
      },
      "source": [
        "The validation errors are represented on the left of the figure, and the best model’s predictions are represented on the right.\n",
        "![](https://github.com/jdecorte/machinelearning/blob/main/img/early_stopping_gbrt_plot.png?raw=1)"
      ]
    }
  ],
  "metadata": {
    "kernelspec": {
      "display_name": "Python 3",
      "language": "python",
      "name": "python3"
    },
    "language_info": {
      "codemirror_mode": {
        "name": "ipython",
        "version": 3
      },
      "file_extension": ".py",
      "mimetype": "text/x-python",
      "name": "python",
      "nbconvert_exporter": "python",
      "pygments_lexer": "ipython3",
      "version": "3.9.0"
    },
    "nav_menu": {
      "height": "252px",
      "width": "333px"
    },
    "toc": {
      "navigate_menu": true,
      "number_sections": true,
      "sideBar": true,
      "threshold": 6,
      "toc_cell": false,
      "toc_section_display": "block",
      "toc_window_display": false
    },
    "colab": {
      "name": "070-ensemble_learning_and_random_forests.ipynb",
      "provenance": []
    }
  },
  "nbformat": 4,
  "nbformat_minor": 0
}