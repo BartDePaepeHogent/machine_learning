{
 "cells": [
  {
   "cell_type": "markdown",
   "metadata": {
    "id": "s7JfG99VJb7e"
   },
   "source": [
    "### Exercise: energy consumption in building vs outside air temperature\n",
    "The data provided in `buildingoat.csv` uses a dataset to model the Power of a building using the Outdoor Air Temperature (OAT) as an explanatory variable.  The **power** (Dutch: Vermogen), expressed in Watt (W),  of a building is a measure for the instantaneous energy comsumption.  Compare it to a light bulb of 10 W: if it is used for one hour it consumes 10 Wh (or 0.01 kWh) of electricity. On your electrity bill you are charged per kWh. Similarly, the power of a building in this exercise determines the energy consumption for heating.  A power of 160 kW (at a given outside temperature and a required inside temperature, which may vary during the day and week) means the building \"looses\" 160 kWh of heat energy per hour, which has to be provided by the heating installation to ensure a constant inside temperature."
   ]
  },
  {
   "cell_type": "markdown",
   "metadata": {
    "id": "1-xqTfQHK9RN"
   },
   "source": [
    "Setup Python and the most common libraries"
   ]
  },
  {
   "cell_type": "code",
   "execution_count": 2,
   "metadata": {
    "id": "9JNaat3aJb7f"
   },
   "outputs": [],
   "source": [
    "import sys\n",
    "import sklearn\n",
    "import numpy as np\n",
    "import pandas as pd\n",
    "import os\n",
    "%matplotlib inline\n",
    "import matplotlib as mpl\n",
    "import matplotlib.pyplot as plt"
   ]
  },
  {
   "cell_type": "markdown",
   "metadata": {
    "id": "NNoAeTaFK9RP"
   },
   "source": [
    "Import buildingoat.csv from https://raw.githubusercontent.com/jdecorte/machinelearning/main/datasets/buildingoat.csv. Show the first 5 records"
   ]
  },
  {
   "cell_type": "code",
   "execution_count": 3,
   "metadata": {
    "colab": {
     "base_uri": "https://localhost:8080/",
     "height": 195
    },
    "id": "WeEmfet4Jb7k",
    "outputId": "43c083e2-d6ec-4e72-a69d-a170e4f19adb"
   },
   "outputs": [
    {
     "data": {
      "text/plain": "       Timestamp  OAT (F)  Power (kW)\n0  1/1/2010 1:15       51       165.1\n1  1/1/2010 1:30       51       151.6\n2  1/1/2010 1:45       51       146.9\n3  1/1/2010 2:00       51       153.7\n4  1/1/2010 2:15       51       153.8",
      "text/html": "<div>\n<style scoped>\n    .dataframe tbody tr th:only-of-type {\n        vertical-align: middle;\n    }\n\n    .dataframe tbody tr th {\n        vertical-align: top;\n    }\n\n    .dataframe thead th {\n        text-align: right;\n    }\n</style>\n<table border=\"1\" class=\"dataframe\">\n  <thead>\n    <tr style=\"text-align: right;\">\n      <th></th>\n      <th>Timestamp</th>\n      <th>OAT (F)</th>\n      <th>Power (kW)</th>\n    </tr>\n  </thead>\n  <tbody>\n    <tr>\n      <th>0</th>\n      <td>1/1/2010 1:15</td>\n      <td>51</td>\n      <td>165.1</td>\n    </tr>\n    <tr>\n      <th>1</th>\n      <td>1/1/2010 1:30</td>\n      <td>51</td>\n      <td>151.6</td>\n    </tr>\n    <tr>\n      <th>2</th>\n      <td>1/1/2010 1:45</td>\n      <td>51</td>\n      <td>146.9</td>\n    </tr>\n    <tr>\n      <th>3</th>\n      <td>1/1/2010 2:00</td>\n      <td>51</td>\n      <td>153.7</td>\n    </tr>\n    <tr>\n      <th>4</th>\n      <td>1/1/2010 2:15</td>\n      <td>51</td>\n      <td>153.8</td>\n    </tr>\n  </tbody>\n</table>\n</div>"
     },
     "execution_count": 3,
     "metadata": {},
     "output_type": "execute_result"
    }
   ],
   "source": [
    "data = pd.read_csv('https://raw.githubusercontent.com/jdecorte/machinelearning/main/datasets/buildingoat.csv')\n",
    "data.head()"
   ]
  },
  {
   "cell_type": "markdown",
   "metadata": {
    "id": "OzMpmd9GK9RQ"
   },
   "source": [
    "What are the instances? Explain in \"business terms\"!  \n",
    "What are the features? "
   ]
  },
  {
   "cell_type": "markdown",
   "metadata": {
    "id": "cQ41i6OqK9RQ"
   },
   "source": [
    "Instances: buildings\n",
    "Features: OAT (label), power (dependent)"
   ]
  },
  {
   "cell_type": "markdown",
   "metadata": {
    "id": "fLYHjaD7K9RR"
   },
   "source": [
    "Explore the datatypes and non-null values per column"
   ]
  },
  {
   "cell_type": "code",
   "execution_count": 4,
   "metadata": {
    "id": "pEbZ2nPnK9RR",
    "outputId": "a368c906-cff5-4583-a398-fdc518d6e711"
   },
   "outputs": [
    {
     "name": "stdout",
     "output_type": "stream",
     "text": [
      "<class 'pandas.core.frame.DataFrame'>\n",
      "RangeIndex: 34940 entries, 0 to 34939\n",
      "Data columns (total 3 columns):\n",
      " #   Column      Non-Null Count  Dtype  \n",
      "---  ------      --------------  -----  \n",
      " 0   Timestamp   34940 non-null  object \n",
      " 1   OAT (F)     34940 non-null  int64  \n",
      " 2   Power (kW)  34940 non-null  float64\n",
      "dtypes: float64(1), int64(1), object(1)\n",
      "memory usage: 819.0+ KB\n"
     ]
    }
   ],
   "source": [
    "data.info()"
   ]
  },
  {
   "cell_type": "markdown",
   "metadata": {
    "id": "Li5qn75pJb7n"
   },
   "source": [
    "The temperature is expressed in degrees Fahrenheit (°F), which is used in the US. We can convert Fahrenheit to Celcius using the formula \n",
    "\n",
    "$°C = \\frac{°F - 32}{1.8}$\n",
    "\n",
    "Convert all values °F to °C. "
   ]
  },
  {
   "cell_type": "code",
   "execution_count": 5,
   "metadata": {
    "colab": {
     "base_uri": "https://localhost:8080/",
     "height": 586
    },
    "id": "2-AyklO2Jb7o",
    "outputId": "52026a5a-fc30-4f56-885f-75a5e99cb003"
   },
   "outputs": [
    {
     "data": {
      "text/plain": "       Timestamp  OAT (F)  Power (kW)    OAT (C)\n0  1/1/2010 1:15       51       165.1  10.555556\n1  1/1/2010 1:30       51       151.6  10.555556\n2  1/1/2010 1:45       51       146.9  10.555556\n3  1/1/2010 2:00       51       153.7  10.555556\n4  1/1/2010 2:15       51       153.8  10.555556\n5  1/1/2010 2:30       51       159.0  10.555556\n6  1/1/2010 2:45       51       157.7  10.555556\n7  1/1/2010 3:00       51       163.2  10.555556\n8  1/1/2010 3:15       50       151.7  10.000000\n9  1/1/2010 3:30       50       148.7  10.000000",
      "text/html": "<div>\n<style scoped>\n    .dataframe tbody tr th:only-of-type {\n        vertical-align: middle;\n    }\n\n    .dataframe tbody tr th {\n        vertical-align: top;\n    }\n\n    .dataframe thead th {\n        text-align: right;\n    }\n</style>\n<table border=\"1\" class=\"dataframe\">\n  <thead>\n    <tr style=\"text-align: right;\">\n      <th></th>\n      <th>Timestamp</th>\n      <th>OAT (F)</th>\n      <th>Power (kW)</th>\n      <th>OAT (C)</th>\n    </tr>\n  </thead>\n  <tbody>\n    <tr>\n      <th>0</th>\n      <td>1/1/2010 1:15</td>\n      <td>51</td>\n      <td>165.1</td>\n      <td>10.555556</td>\n    </tr>\n    <tr>\n      <th>1</th>\n      <td>1/1/2010 1:30</td>\n      <td>51</td>\n      <td>151.6</td>\n      <td>10.555556</td>\n    </tr>\n    <tr>\n      <th>2</th>\n      <td>1/1/2010 1:45</td>\n      <td>51</td>\n      <td>146.9</td>\n      <td>10.555556</td>\n    </tr>\n    <tr>\n      <th>3</th>\n      <td>1/1/2010 2:00</td>\n      <td>51</td>\n      <td>153.7</td>\n      <td>10.555556</td>\n    </tr>\n    <tr>\n      <th>4</th>\n      <td>1/1/2010 2:15</td>\n      <td>51</td>\n      <td>153.8</td>\n      <td>10.555556</td>\n    </tr>\n    <tr>\n      <th>5</th>\n      <td>1/1/2010 2:30</td>\n      <td>51</td>\n      <td>159.0</td>\n      <td>10.555556</td>\n    </tr>\n    <tr>\n      <th>6</th>\n      <td>1/1/2010 2:45</td>\n      <td>51</td>\n      <td>157.7</td>\n      <td>10.555556</td>\n    </tr>\n    <tr>\n      <th>7</th>\n      <td>1/1/2010 3:00</td>\n      <td>51</td>\n      <td>163.2</td>\n      <td>10.555556</td>\n    </tr>\n    <tr>\n      <th>8</th>\n      <td>1/1/2010 3:15</td>\n      <td>50</td>\n      <td>151.7</td>\n      <td>10.000000</td>\n    </tr>\n    <tr>\n      <th>9</th>\n      <td>1/1/2010 3:30</td>\n      <td>50</td>\n      <td>148.7</td>\n      <td>10.000000</td>\n    </tr>\n  </tbody>\n</table>\n</div>"
     },
     "execution_count": 5,
     "metadata": {},
     "output_type": "execute_result"
    }
   ],
   "source": [
    "data[\"OAT (C)\"] = (data[\"OAT (F)\"] - 32) / 1.8\n",
    "data.head(10)"
   ]
  },
  {
   "cell_type": "markdown",
   "metadata": {
    "id": "aci2EaytK9RT"
   },
   "source": [
    "Convert the type of Timestamp from 'object' to 'datetime'. This will change the visualized format of Timestamp"
   ]
  },
  {
   "cell_type": "code",
   "execution_count": 6,
   "metadata": {
    "colab": {
     "base_uri": "https://localhost:8080/",
     "height": 195
    },
    "id": "leuEzivxJb7r",
    "outputId": "02a16f85-2630-42b2-8606-35ed6b82b5be"
   },
   "outputs": [
    {
     "data": {
      "text/plain": "            Timestamp  Power (kW)    OAT (C)\n0 2010-01-01 01:15:00       165.1  10.555556\n1 2010-01-01 01:30:00       151.6  10.555556\n2 2010-01-01 01:45:00       146.9  10.555556\n3 2010-01-01 02:00:00       153.7  10.555556\n4 2010-01-01 02:15:00       153.8  10.555556",
      "text/html": "<div>\n<style scoped>\n    .dataframe tbody tr th:only-of-type {\n        vertical-align: middle;\n    }\n\n    .dataframe tbody tr th {\n        vertical-align: top;\n    }\n\n    .dataframe thead th {\n        text-align: right;\n    }\n</style>\n<table border=\"1\" class=\"dataframe\">\n  <thead>\n    <tr style=\"text-align: right;\">\n      <th></th>\n      <th>Timestamp</th>\n      <th>Power (kW)</th>\n      <th>OAT (C)</th>\n    </tr>\n  </thead>\n  <tbody>\n    <tr>\n      <th>0</th>\n      <td>2010-01-01 01:15:00</td>\n      <td>165.1</td>\n      <td>10.555556</td>\n    </tr>\n    <tr>\n      <th>1</th>\n      <td>2010-01-01 01:30:00</td>\n      <td>151.6</td>\n      <td>10.555556</td>\n    </tr>\n    <tr>\n      <th>2</th>\n      <td>2010-01-01 01:45:00</td>\n      <td>146.9</td>\n      <td>10.555556</td>\n    </tr>\n    <tr>\n      <th>3</th>\n      <td>2010-01-01 02:00:00</td>\n      <td>153.7</td>\n      <td>10.555556</td>\n    </tr>\n    <tr>\n      <th>4</th>\n      <td>2010-01-01 02:15:00</td>\n      <td>153.8</td>\n      <td>10.555556</td>\n    </tr>\n  </tbody>\n</table>\n</div>"
     },
     "execution_count": 6,
     "metadata": {},
     "output_type": "execute_result"
    }
   ],
   "source": [
    "data[\"Timestamp\"] = pd.to_datetime(data[\"Timestamp\"])\n",
    "data.drop(columns=[\"OAT (F)\"], inplace=True)\n",
    "data.head()"
   ]
  },
  {
   "cell_type": "markdown",
   "metadata": {
    "id": "YNbhHm01K9RT"
   },
   "source": [
    "Give the dimensions of the dataset"
   ]
  },
  {
   "cell_type": "code",
   "execution_count": 7,
   "metadata": {
    "colab": {
     "base_uri": "https://localhost:8080/"
    },
    "id": "4p1pWBUIJb7x",
    "outputId": "69909432-b66d-45bd-c5d9-bb440550d584"
   },
   "outputs": [
    {
     "data": {
      "text/plain": "(34940, 3)"
     },
     "execution_count": 7,
     "metadata": {},
     "output_type": "execute_result"
    }
   ],
   "source": [
    "data.shape\n"
   ]
  },
  {
   "cell_type": "markdown",
   "metadata": {
    "id": "fH5sfqgVK9RU"
   },
   "source": [
    "Give the statistics of the dataset"
   ]
  },
  {
   "cell_type": "code",
   "execution_count": 8,
   "metadata": {
    "colab": {
     "base_uri": "https://localhost:8080/",
     "height": 284
    },
    "id": "TX7rMzjtJb76",
    "outputId": "a766bbc5-a7bc-4fa9-9316-7e842cc01f32"
   },
   "outputs": [
    {
     "data": {
      "text/plain": "         Power (kW)       OAT (C)\ncount  34940.000000  34940.000000\nmean     261.644659     14.769828\nstd       65.673392      4.855195\nmin        0.000000      0.555556\n25%      194.600000     11.666667\n50%      276.700000     14.444444\n75%      312.300000     17.777778\nmax      457.900000     37.777778",
      "text/html": "<div>\n<style scoped>\n    .dataframe tbody tr th:only-of-type {\n        vertical-align: middle;\n    }\n\n    .dataframe tbody tr th {\n        vertical-align: top;\n    }\n\n    .dataframe thead th {\n        text-align: right;\n    }\n</style>\n<table border=\"1\" class=\"dataframe\">\n  <thead>\n    <tr style=\"text-align: right;\">\n      <th></th>\n      <th>Power (kW)</th>\n      <th>OAT (C)</th>\n    </tr>\n  </thead>\n  <tbody>\n    <tr>\n      <th>count</th>\n      <td>34940.000000</td>\n      <td>34940.000000</td>\n    </tr>\n    <tr>\n      <th>mean</th>\n      <td>261.644659</td>\n      <td>14.769828</td>\n    </tr>\n    <tr>\n      <th>std</th>\n      <td>65.673392</td>\n      <td>4.855195</td>\n    </tr>\n    <tr>\n      <th>min</th>\n      <td>0.000000</td>\n      <td>0.555556</td>\n    </tr>\n    <tr>\n      <th>25%</th>\n      <td>194.600000</td>\n      <td>11.666667</td>\n    </tr>\n    <tr>\n      <th>50%</th>\n      <td>276.700000</td>\n      <td>14.444444</td>\n    </tr>\n    <tr>\n      <th>75%</th>\n      <td>312.300000</td>\n      <td>17.777778</td>\n    </tr>\n    <tr>\n      <th>max</th>\n      <td>457.900000</td>\n      <td>37.777778</td>\n    </tr>\n  </tbody>\n</table>\n</div>"
     },
     "execution_count": 8,
     "metadata": {},
     "output_type": "execute_result"
    }
   ],
   "source": [
    "data.describe()"
   ]
  },
  {
   "cell_type": "markdown",
   "metadata": {
    "id": "DJ7qqow9K9RV"
   },
   "source": [
    "You can see that the mean value of Power (kW) is 261.644659 and the standard deviation 65.673392.  \n",
    "Assign both values to a variable.  "
   ]
  },
  {
   "cell_type": "code",
   "execution_count": 9,
   "metadata": {
    "colab": {
     "base_uri": "https://localhost:8080/"
    },
    "id": "3s9vjcv2Jb79",
    "outputId": "f53a67cb-a99c-4c37-85ad-cf796f7848c6"
   },
   "outputs": [
    {
     "name": "stdout",
     "output_type": "stream",
     "text": [
      "261.64465941614196\n",
      "65.67339168302733\n"
     ]
    }
   ],
   "source": [
    "meanPower = data.iloc[:,1].mean()\n",
    "print(meanPower)\n",
    "stdPower = data.iloc[:,1].std()\n",
    "print(stdPower)"
   ]
  },
  {
   "cell_type": "markdown",
   "metadata": {
    "id": "GJch0AArK9RV"
   },
   "source": [
    "Let's do some data cleaning by removing outliers according to the 68-95-99.7 - rule: drop all values that are more than 3 standard deviations from the mean\n",
    "This is a popular way of removing outliers from the dataset, which are often bad registrations. "
   ]
  },
  {
   "cell_type": "code",
   "execution_count": 10,
   "metadata": {
    "colab": {
     "base_uri": "https://localhost:8080/",
     "height": 402
    },
    "id": "3CJH-kdYJb8G",
    "outputId": "30e8780c-7984-4536-f90b-618c07ee634b"
   },
   "outputs": [],
   "source": [
    "lowerBoundary = meanPower - (3 * stdPower)\n",
    "upperBoundary = meanPower + (3 * stdPower)\n",
    "data.drop(data[(data.iloc[:,1] < lowerBoundary) | (data.iloc[:,1] > upperBoundary)].index, inplace=True)"
   ]
  },
  {
   "cell_type": "markdown",
   "metadata": {
    "id": "UK9n9M-dK9RW"
   },
   "source": [
    "You can guess there is a dependancy between the power consumption and the outside temperature.  \n",
    "Plot the Power (kW) versus the OAT (C). Add parameter `kind='scatter'` to the plot function to obtain a scatter plot. "
   ]
  },
  {
   "cell_type": "code",
   "execution_count": 11,
   "metadata": {
    "colab": {
     "base_uri": "https://localhost:8080/",
     "height": 282
    },
    "id": "mwnqxOPTJb8L",
    "outputId": "eae650d1-480a-45bf-fca4-a6e5818e59ce"
   },
   "outputs": [
    {
     "data": {
      "text/plain": "<AxesSubplot:xlabel='Power (kW)', ylabel='OAT (C)'>"
     },
     "execution_count": 11,
     "metadata": {},
     "output_type": "execute_result"
    },
    {
     "data": {
      "text/plain": "<Figure size 432x288 with 1 Axes>",
      "image/png": "[encoded data removed]"
     },
     "metadata": {
      "needs_background": "light"
     },
     "output_type": "display_data"
    }
   ],
   "source": [
    "data.plot(kind=\"scatter\", x=\"Power (kW)\", y=\"OAT (C)\")\n"
   ]
  },
  {
   "cell_type": "markdown",
   "metadata": {
    "id": "oM-8Doj8K9RW"
   },
   "source": [
    "The Power is probably also highly dependent on the month of the year, the day of the week and the time of the day.  \n",
    "We will use this information to incorporate into our regression model.  \n",
    "Add extra columns for the month, day of the week and hour of the day, all as integer values. "
   ]
  },
  {
   "cell_type": "code",
   "execution_count": 12,
   "metadata": {
    "id": "3_JSsWQDJb8O"
   },
   "outputs": [],
   "source": [
    "data[\"month\"]=data[\"Timestamp\"].dt.month\n",
    "data[\"day of the week\"]=data[\"Timestamp\"].dt.dayofweek\n",
    "data[\"hour\"]=data[\"Timestamp\"].dt.hour"
   ]
  },
  {
   "cell_type": "code",
   "execution_count": 13,
   "metadata": {
    "colab": {
     "base_uri": "https://localhost:8080/",
     "height": 195
    },
    "id": "KcsnDJGvJb8R",
    "outputId": "e508b531-3fb8-4497-a8b2-d714e5ffbeaa"
   },
   "outputs": [
    {
     "data": {
      "text/plain": "<Figure size 1440x1080 with 6 Axes>",
      "image/png": "[encoded data removed]"
     },
     "metadata": {
      "needs_background": "light"
     },
     "output_type": "display_data"
    }
   ],
   "source": [
    "data.hist(bins=50, figsize=(20,15))\n",
    "plt.show()"
   ]
  },
  {
   "cell_type": "markdown",
   "metadata": {
    "id": "Phy4wxe5K9RX"
   },
   "source": [
    "Plot the histogram of the numerical attributes"
   ]
  },
  {
   "cell_type": "markdown",
   "metadata": {
    "id": "6_fs2xuzK9RX"
   },
   "source": []
  },
  {
   "cell_type": "markdown",
   "metadata": {
    "id": "i0v_1e_kK9RX"
   },
   "source": [
    "The column Timestamp is of no use in our model, so drop it. "
   ]
  },
  {
   "cell_type": "code",
   "execution_count": 14,
   "metadata": {
    "id": "ifXLXbk6K9RX"
   },
   "outputs": [],
   "source": [
    "data.drop(columns=[\"Timestamp\"], inplace=True)"
   ]
  },
  {
   "cell_type": "markdown",
   "metadata": {
    "id": "wcAuWRuRK9RX"
   },
   "source": [
    "Altough Month, Day and Hour are numeric, they are in fact categorical attributes, so apply one hot encoding; If you don't care about Pipelines (which is here the case, you can use Pandas' `get_dummies()` function iso Numpy's `OneHotEncoder()`. See https://pandas.pydata.org/docs/reference/api/pandas.get_dummies.html for the documentation about `get_dummies()`. "
   ]
  },
  {
   "cell_type": "code",
   "execution_count": 15,
   "metadata": {
    "id": "SoJI1PGBK9RY",
    "outputId": "9da47d10-fcdd-47f0-8765-888e933b9cbf"
   },
   "outputs": [
    {
     "data": {
      "text/plain": "   Power (kW)    OAT (C)  month_1  month_2  month_3  month_4  month_5  \\\n0       165.1  10.555556        1        0        0        0        0   \n1       151.6  10.555556        1        0        0        0        0   \n2       146.9  10.555556        1        0        0        0        0   \n3       153.7  10.555556        1        0        0        0        0   \n4       153.8  10.555556        1        0        0        0        0   \n\n   month_6  month_7  month_8  ...  hour_14  hour_15  hour_16  hour_17  \\\n0        0        0        0  ...        0        0        0        0   \n1        0        0        0  ...        0        0        0        0   \n2        0        0        0  ...        0        0        0        0   \n3        0        0        0  ...        0        0        0        0   \n4        0        0        0  ...        0        0        0        0   \n\n   hour_18  hour_19  hour_20  hour_21  hour_22  hour_23  \n0        0        0        0        0        0        0  \n1        0        0        0        0        0        0  \n2        0        0        0        0        0        0  \n3        0        0        0        0        0        0  \n4        0        0        0        0        0        0  \n\n[5 rows x 45 columns]",
      "text/html": "<div>\n<style scoped>\n    .dataframe tbody tr th:only-of-type {\n        vertical-align: middle;\n    }\n\n    .dataframe tbody tr th {\n        vertical-align: top;\n    }\n\n    .dataframe thead th {\n        text-align: right;\n    }\n</style>\n<table border=\"1\" class=\"dataframe\">\n  <thead>\n    <tr style=\"text-align: right;\">\n      <th></th>\n      <th>Power (kW)</th>\n      <th>OAT (C)</th>\n      <th>month_1</th>\n      <th>month_2</th>\n      <th>month_3</th>\n      <th>month_4</th>\n      <th>month_5</th>\n      <th>month_6</th>\n      <th>month_7</th>\n      <th>month_8</th>\n      <th>...</th>\n      <th>hour_14</th>\n      <th>hour_15</th>\n      <th>hour_16</th>\n      <th>hour_17</th>\n      <th>hour_18</th>\n      <th>hour_19</th>\n      <th>hour_20</th>\n      <th>hour_21</th>\n      <th>hour_22</th>\n      <th>hour_23</th>\n    </tr>\n  </thead>\n  <tbody>\n    <tr>\n      <th>0</th>\n      <td>165.1</td>\n      <td>10.555556</td>\n      <td>1</td>\n      <td>0</td>\n      <td>0</td>\n      <td>0</td>\n      <td>0</td>\n      <td>0</td>\n      <td>0</td>\n      <td>0</td>\n      <td>...</td>\n      <td>0</td>\n      <td>0</td>\n      <td>0</td>\n      <td>0</td>\n      <td>0</td>\n      <td>0</td>\n      <td>0</td>\n      <td>0</td>\n      <td>0</td>\n      <td>0</td>\n    </tr>\n    <tr>\n      <th>1</th>\n      <td>151.6</td>\n      <td>10.555556</td>\n      <td>1</td>\n      <td>0</td>\n      <td>0</td>\n      <td>0</td>\n      <td>0</td>\n      <td>0</td>\n      <td>0</td>\n      <td>0</td>\n      <td>...</td>\n      <td>0</td>\n      <td>0</td>\n      <td>0</td>\n      <td>0</td>\n      <td>0</td>\n      <td>0</td>\n      <td>0</td>\n      <td>0</td>\n      <td>0</td>\n      <td>0</td>\n    </tr>\n    <tr>\n      <th>2</th>\n      <td>146.9</td>\n      <td>10.555556</td>\n      <td>1</td>\n      <td>0</td>\n      <td>0</td>\n      <td>0</td>\n      <td>0</td>\n      <td>0</td>\n      <td>0</td>\n      <td>0</td>\n      <td>...</td>\n      <td>0</td>\n      <td>0</td>\n      <td>0</td>\n      <td>0</td>\n      <td>0</td>\n      <td>0</td>\n      <td>0</td>\n      <td>0</td>\n      <td>0</td>\n      <td>0</td>\n    </tr>\n    <tr>\n      <th>3</th>\n      <td>153.7</td>\n      <td>10.555556</td>\n      <td>1</td>\n      <td>0</td>\n      <td>0</td>\n      <td>0</td>\n      <td>0</td>\n      <td>0</td>\n      <td>0</td>\n      <td>0</td>\n      <td>...</td>\n      <td>0</td>\n      <td>0</td>\n      <td>0</td>\n      <td>0</td>\n      <td>0</td>\n      <td>0</td>\n      <td>0</td>\n      <td>0</td>\n      <td>0</td>\n      <td>0</td>\n    </tr>\n    <tr>\n      <th>4</th>\n      <td>153.8</td>\n      <td>10.555556</td>\n      <td>1</td>\n      <td>0</td>\n      <td>0</td>\n      <td>0</td>\n      <td>0</td>\n      <td>0</td>\n      <td>0</td>\n      <td>0</td>\n      <td>...</td>\n      <td>0</td>\n      <td>0</td>\n      <td>0</td>\n      <td>0</td>\n      <td>0</td>\n      <td>0</td>\n      <td>0</td>\n      <td>0</td>\n      <td>0</td>\n      <td>0</td>\n    </tr>\n  </tbody>\n</table>\n<p>5 rows × 45 columns</p>\n</div>"
     },
     "execution_count": 15,
     "metadata": {},
     "output_type": "execute_result"
    }
   ],
   "source": [
    "dummies_month = pd.get_dummies(data[\"month\"], prefix=\"month\")\n",
    "dummies_day_of_week = pd.get_dummies(data[\"day of the week\"], prefix=\"day\")\n",
    "dummies_hour = pd.get_dummies(data[\"hour\"], prefix=\"hour\")\n",
    "data.drop(columns=['month','day of the week','hour'], inplace=True)\n",
    "data = data.join(dummies_month)\n",
    "data = data.join(dummies_day_of_week)\n",
    "data = data.join(dummies_hour)\n",
    "data.head()"
   ]
  },
  {
   "cell_type": "markdown",
   "metadata": {
    "id": "pbG_y-KGK9RY"
   },
   "source": [
    "Use RandomForestRegressor to predict the Power (kW).  \n",
    "Find the optimal number of trees based on RMSE. Choose between 3, 10, 30 and 50, take default values for the other features.  \n",
    "Use cross validation with 3 folds.  \n",
    "First put aside a randomized test set. Since we don't have a skew dataset stratified sampling is not really necessary. "
   ]
  },
  {
   "cell_type": "code",
   "execution_count": 16,
   "metadata": {
    "id": "QjDAeNNuK9RY"
   },
   "outputs": [],
   "source": [
    "np.random.seed(42)"
   ]
  },
  {
   "cell_type": "code",
   "execution_count": 18,
   "metadata": {
    "id": "rfRlR7_1K9RY",
    "outputId": "e6cd38ff-fe9a-4c67-872c-61bfb06db48c"
   },
   "outputs": [],
   "source": [
    "from sklearn.model_selection import train_test_split\n",
    "train_set, test_set = train_test_split(data, test_size=0.2, random_state=42)\n",
    "data = train_set.drop(\"OAT (C)\", axis=1)\n",
    "data_labels = train_set[\"OAT (C)\"].copy()"
   ]
  },
  {
   "cell_type": "code",
   "execution_count": 19,
   "metadata": {
    "id": "0Ha2Wjy_K9RY",
    "outputId": "c91d526e-8bf3-4e6b-c698-c11986f63a44"
   },
   "outputs": [
    {
     "data": {
      "text/plain": "array([[0.25373961, 0.        , 0.        , ..., 0.        , 0.        ,\n        0.        ],\n       [0.7567867 , 0.        , 0.        , ..., 0.        , 0.        ,\n        0.        ],\n       [0.59030471, 0.        , 0.        , ..., 0.        , 0.        ,\n        0.        ],\n       ...,\n       [0.5232687 , 0.        , 0.        , ..., 0.        , 0.        ,\n        0.        ],\n       [0.17645429, 1.        , 0.        , ..., 0.        , 0.        ,\n        0.        ],\n       [0.23379501, 0.        , 0.        , ..., 0.        , 0.        ,\n        0.        ]])"
     },
     "execution_count": 19,
     "metadata": {},
     "output_type": "execute_result"
    }
   ],
   "source": [
    "from sklearn.preprocessing import MinMaxScaler\n",
    "scaler = MinMaxScaler()\n",
    "scaler.fit(data)\n",
    "scaler.transform(data)"
   ]
  },
  {
   "cell_type": "code",
   "execution_count": 21,
   "metadata": {
    "id": "FaiWF_ZCK9RY",
    "outputId": "ba9dcca3-5ae5-4a2c-c957-36c4c7a9cf79"
   },
   "outputs": [],
   "source": [
    "from sklearn.ensemble import RandomForestRegressor\n",
    "from sklearn.metrics import mean_squared_error\n",
    "\n",
    "selectedKey = key = 0\n",
    "rmse = 99999\n",
    "for trees in [3, 10, 30, 50]:\n",
    "    forest_reg = RandomForestRegressor(n_estimators=trees)\n",
    "    forest_reg.fit(data, data_labels)\n",
    "    data_predictions = forest_reg.predict(data)\n",
    "    forest_mse = mean_squared_error(data_labels, data_predictions)\n",
    "    forest_rmse = np.sqrt(forest_mse)\n",
    "    if forest_rmse < rmse:\n",
    "        selectedKey = key\n",
    "        rmse = forest_rmse\n",
    "    key += 1"
   ]
  },
  {
   "cell_type": "code",
   "execution_count": 22,
   "metadata": {
    "id": "O9xZFD9sK9RZ",
    "outputId": "d264d63b-7ef1-4354-cb5a-a954fcfd24df"
   },
   "outputs": [
    {
     "name": "stdout",
     "output_type": "stream",
     "text": [
      "Scores: [2.23158663 2.25267173 2.22392973]\n",
      "Mean: 2.2360626970958832\n",
      "Standard deviation: 0.012153240473205533\n"
     ]
    }
   ],
   "source": [
    "from sklearn.model_selection import cross_val_score\n",
    "def display_scores(scores):\n",
    "    print(\"Scores:\", scores)\n",
    "    print(\"Mean:\", scores.mean())\n",
    "    print(\"Standard deviation:\", scores.std())\n",
    "forest_scores = cross_val_score(forest_reg, data, data_labels,\n",
    "                                scoring=\"neg_mean_squared_error\", cv=3)\n",
    "forest_rmse_scores = np.sqrt(-forest_scores)\n",
    "display_scores(forest_rmse_scores)"
   ]
  },
  {
   "cell_type": "markdown",
   "metadata": {
    "id": "Agx5mMS1NQHw",
    "outputId": "80d95a14-3054-4bff-ba8a-531857310d99"
   },
   "source": [
    "Evaluate Your System on the Test Set"
   ]
  },
  {
   "cell_type": "code",
   "execution_count": 23,
   "metadata": {
    "id": "n_mhFrTcJb8r"
   },
   "outputs": [
    {
     "data": {
      "text/plain": "GridSearchCV(cv=5, estimator=RandomForestRegressor(random_state=42),\n             param_grid=[{'max_features': [2, 4, 6, 8],\n                          'n_estimators': [3, 10, 30]},\n                         {'bootstrap': [False], 'max_features': [2, 3, 4],\n                          'n_estimators': [3, 10]}],\n             return_train_score=True, scoring='neg_mean_squared_error')"
     },
     "execution_count": 23,
     "metadata": {},
     "output_type": "execute_result"
    }
   ],
   "source": [
    "from sklearn.model_selection import GridSearchCV\n",
    "\n",
    "param_grid = [\n",
    "    # try 12 (3×4) combinations of hyperparameters\n",
    "    {'n_estimators': [3, 10, 30], 'max_features': [2, 4, 6, 8]},\n",
    "    # then try 6 (2×3) combinations with bootstrap set as False\n",
    "    {'bootstrap': [False], 'n_estimators': [3, 10], 'max_features': [2, 3, 4]},\n",
    "  ]\n",
    "\n",
    "forest_reg = RandomForestRegressor(random_state=42)\n",
    "# train across 5 folds, that's a total of (12+6)*5=90 rounds of training\n",
    "grid_search = GridSearchCV(forest_reg, param_grid, cv=5,\n",
    "                           scoring='neg_mean_squared_error',\n",
    "                           return_train_score=True)\n",
    "grid_search.fit(data, data_labels)\n"
   ]
  },
  {
   "cell_type": "code",
   "execution_count": 24,
   "metadata": {
    "id": "WHKHYazrK9RZ",
    "outputId": "8511f7db-170c-440e-fbb3-16c5232f75d2"
   },
   "outputs": [
    {
     "data": {
      "text/plain": "2.124011833219231"
     },
     "execution_count": 24,
     "metadata": {},
     "output_type": "execute_result"
    }
   ],
   "source": [
    "final_model= grid_search.best_estimator_\n",
    "\n",
    "X_test = test_set.drop(\"OAT (C)\", axis=1)\n",
    "y_test = test_set[\"OAT (C)\"].copy()\n",
    "scaler.fit(X_test)\n",
    "scaler.transform(X_test)\n",
    "final_predictions = final_model.predict(X_test)\n",
    "final_rmse = mean_squared_error(y_test, final_predictions,squared=False)\n",
    "final_rmse"
   ]
  },
  {
   "cell_type": "markdown",
   "metadata": {
    "id": "kBeElLXsK9RZ"
   },
   "source": [
    "Use your model to predict the first 5 lines of the training set and compare it to the \"real\" values"
   ]
  },
  {
   "cell_type": "code",
   "execution_count": 25,
   "metadata": {
    "id": "myuYcKtdK9RZ",
    "outputId": "1d66ba8f-f9af-4f9e-efd4-56defca29547"
   },
   "outputs": [
    {
     "ename": "NotFittedError",
     "evalue": "This RandomForestRegressor instance is not fitted yet. Call 'fit' with appropriate arguments before using this estimator.",
     "output_type": "error",
     "traceback": [
      "\u001B[1;31m---------------------------------------------------------------------------\u001B[0m",
      "\u001B[1;31mNotFittedError\u001B[0m                            Traceback (most recent call last)",
      "Input \u001B[1;32mIn [25]\u001B[0m, in \u001B[0;36m<cell line: 3>\u001B[1;34m()\u001B[0m\n\u001B[0;32m      1\u001B[0m some_data \u001B[38;5;241m=\u001B[39m data\u001B[38;5;241m.\u001B[39miloc[:\u001B[38;5;241m5\u001B[39m]\n\u001B[0;32m      2\u001B[0m some_labels \u001B[38;5;241m=\u001B[39m data_labels\u001B[38;5;241m.\u001B[39miloc[:\u001B[38;5;241m5\u001B[39m]\n\u001B[1;32m----> 3\u001B[0m \u001B[38;5;28mprint\u001B[39m(\u001B[38;5;124m\"\u001B[39m\u001B[38;5;124mPredictions:\u001B[39m\u001B[38;5;124m\"\u001B[39m, forest_reg\u001B[38;5;241m.\u001B[39mpredict(some_data))\n",
      "File \u001B[1;32mc:\\users\\pc\\pycharmprojects\\machine_learning_lesopnames\\venv\\lib\\site-packages\\sklearn\\ensemble\\_forest.py:969\u001B[0m, in \u001B[0;36mForestRegressor.predict\u001B[1;34m(self, X)\u001B[0m\n\u001B[0;32m    950\u001B[0m \u001B[38;5;28;01mdef\u001B[39;00m \u001B[38;5;21mpredict\u001B[39m(\u001B[38;5;28mself\u001B[39m, X):\n\u001B[0;32m    951\u001B[0m     \u001B[38;5;124;03m\"\"\"\u001B[39;00m\n\u001B[0;32m    952\u001B[0m \u001B[38;5;124;03m    Predict regression target for X.\u001B[39;00m\n\u001B[0;32m    953\u001B[0m \n\u001B[1;32m   (...)\u001B[0m\n\u001B[0;32m    967\u001B[0m \u001B[38;5;124;03m        The predicted values.\u001B[39;00m\n\u001B[0;32m    968\u001B[0m \u001B[38;5;124;03m    \"\"\"\u001B[39;00m\n\u001B[1;32m--> 969\u001B[0m     \u001B[43mcheck_is_fitted\u001B[49m\u001B[43m(\u001B[49m\u001B[38;5;28;43mself\u001B[39;49m\u001B[43m)\u001B[49m\n\u001B[0;32m    970\u001B[0m     \u001B[38;5;66;03m# Check data\u001B[39;00m\n\u001B[0;32m    971\u001B[0m     X \u001B[38;5;241m=\u001B[39m \u001B[38;5;28mself\u001B[39m\u001B[38;5;241m.\u001B[39m_validate_X_predict(X)\n",
      "File \u001B[1;32mc:\\users\\pc\\pycharmprojects\\machine_learning_lesopnames\\venv\\lib\\site-packages\\sklearn\\utils\\validation.py:1222\u001B[0m, in \u001B[0;36mcheck_is_fitted\u001B[1;34m(estimator, attributes, msg, all_or_any)\u001B[0m\n\u001B[0;32m   1217\u001B[0m     fitted \u001B[38;5;241m=\u001B[39m [\n\u001B[0;32m   1218\u001B[0m         v \u001B[38;5;28;01mfor\u001B[39;00m v \u001B[38;5;129;01min\u001B[39;00m \u001B[38;5;28mvars\u001B[39m(estimator) \u001B[38;5;28;01mif\u001B[39;00m v\u001B[38;5;241m.\u001B[39mendswith(\u001B[38;5;124m\"\u001B[39m\u001B[38;5;124m_\u001B[39m\u001B[38;5;124m\"\u001B[39m) \u001B[38;5;129;01mand\u001B[39;00m \u001B[38;5;129;01mnot\u001B[39;00m v\u001B[38;5;241m.\u001B[39mstartswith(\u001B[38;5;124m\"\u001B[39m\u001B[38;5;124m__\u001B[39m\u001B[38;5;124m\"\u001B[39m)\n\u001B[0;32m   1219\u001B[0m     ]\n\u001B[0;32m   1221\u001B[0m \u001B[38;5;28;01mif\u001B[39;00m \u001B[38;5;129;01mnot\u001B[39;00m fitted:\n\u001B[1;32m-> 1222\u001B[0m     \u001B[38;5;28;01mraise\u001B[39;00m NotFittedError(msg \u001B[38;5;241m%\u001B[39m {\u001B[38;5;124m\"\u001B[39m\u001B[38;5;124mname\u001B[39m\u001B[38;5;124m\"\u001B[39m: \u001B[38;5;28mtype\u001B[39m(estimator)\u001B[38;5;241m.\u001B[39m\u001B[38;5;18m__name__\u001B[39m})\n",
      "\u001B[1;31mNotFittedError\u001B[0m: This RandomForestRegressor instance is not fitted yet. Call 'fit' with appropriate arguments before using this estimator."
     ]
    }
   ],
   "source": [
    "some_data = data.iloc[:5]\n",
    "some_labels = data_labels.iloc[:5]\n",
    "print(\"Predictions:\", forest_reg.predict(some_data))"
   ]
  },
  {
   "cell_type": "code",
   "execution_count": null,
   "metadata": {
    "id": "vP2aztoPK9Ra",
    "outputId": "0e0c8e8b-be51-453b-d7bc-36c28661295e"
   },
   "outputs": [],
   "source": [
    ""
   ]
  },
  {
   "cell_type": "code",
   "execution_count": null,
   "metadata": {
    "id": "8rrPeTNoK9Ra",
    "outputId": "5dbed5b8-b6c6-4a2e-ca08-f09e7aea6ea6"
   },
   "outputs": [],
   "source": [
    ""
   ]
  },
  {
   "cell_type": "markdown",
   "metadata": {
    "id": "Q1Jy26weK9Ra"
   },
   "source": [
    "Explain the concept of noise in this context"
   ]
  },
  {
   "cell_type": "markdown",
   "metadata": {
    "id": "zLhb1gFlK9Ra"
   },
   "source": [
    ""
   ]
  }
 ],
 "metadata": {
  "colab": {
   "collapsed_sections": [],
   "name": "exercise_building_oat_solution.ipynb",
   "provenance": []
  },
  "kernelspec": {
   "display_name": "Python 3.7.9 64-bit",
   "metadata": {
    "interpreter": {
     "hash": "e38c2fdc263bd006ea163cb24ba69f2565fa8961cc21871c1db0c971d7aedd29"
    }
   },
   "name": "python3"
  },
  "language_info": {
   "codemirror_mode": {
    "name": "ipython",
    "version": 3
   },
   "file_extension": ".py",
   "mimetype": "text/x-python",
   "name": "python",
   "nbconvert_exporter": "python",
   "pygments_lexer": "ipython3",
   "version": "3.7.9"
  }
 },
 "nbformat": 4,
 "nbformat_minor": 0
}